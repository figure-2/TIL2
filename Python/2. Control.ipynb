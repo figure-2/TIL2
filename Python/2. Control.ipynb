{
 "cells": [
  {
   "cell_type": "markdown",
   "id": "3decbaac-078c-45b8-afc1-d844f9b012ce",
   "metadata": {},
   "source": [
    "# 제어문\n",
    "\n",
    "1. 조건문"
   ]
  },
  {
   "cell_type": "markdown",
   "id": "2dc0ca49-7653-42df-a6dc-10635f51f118",
   "metadata": {},
   "source": [
    "## 1. 조건문 (if문)\n",
    "\n",
    "1. if문을 반드시 일정한 참/거짓을 판단할 수 있는 **조건식**과 함께 사용한다. \n",
    "\n",
    "2. <br> 조건식이 참인 경우 `:` 이후 문장 실행 <br>\n",
    "조건식이 거짓인 경우 `else:` 이후 문장 실행\n",
    "\n",
    "\n",
    "### if-else문\n",
    "```python\n",
    "if <조건식>:\n",
    "    if의 조건이 참인 경우 실행\n",
    "else:\n",
    "    if의 조건이 거짓인 경우 실행\n",
    "\n",
    "```"
   ]
  },
  {
   "cell_type": "markdown",
   "id": "f1218c7b-dc60-464e-b3c5-49aee1ad7fdb",
   "metadata": {},
   "source": [
    " ### elif문\n",
    "\n",
    " 여러 조건을 사용할 수 있는 조건문\n",
    "\n",
    " ```python\n",
    " if <조건식>:\n",
    "    if의 조건이 참인 경우 실행\n",
    "elif <조건식>:\n",
    "    elif의 조건이 참인 경우 실행\n",
    "else:\n",
    "    위의 조건식이 하나도 부합하지 않는 경우 실행\n",
    "```"
   ]
  },
  {
   "cell_type": "markdown",
   "id": "a25c1e2c-5cbb-498d-9bbf-f624c08ac7b9",
   "metadata": {},
   "source": [
    "### 조건표현식\n",
    "\n",
    "```python\n",
    "true_value if <조건식> else false_value\n",
    "```\n",
    "**동일한 코드**\n",
    "\n",
    "```python\n",
    "if <조건식>:\n",
    "    true_value\n",
    "else:\n",
    "    false_value\n",
    "```"
   ]
  },
  {
   "cell_type": "markdown",
   "id": "cace02c9-d8d6-428e-9bea-047e700fe9dc",
   "metadata": {},
   "source": [
    "## 반복문\n",
    "<br>\n",
    "\n",
    "### while문\n",
    "표현식이 참인 동안 실행을 반복 하며 조건식이 참일 동안 계속 반복한다.\n",
    "\n",
    "```python\n",
    "while <조건식>:\n",
    "    실행할 코드\n",
    "```"
   ]
  },
  {
   "cell_type": "markdown",
   "id": "82dbb36b-0ede-4996-80fe-ff4653356ca0",
   "metadata": {},
   "source": [
    "### dictionary 반복\n",
    "\n",
    "```python\n",
    "1. for key in dict\n",
    "    - key 출력\n",
    "\n",
    "2. for key in dict.keys()\n",
    "    - 1과 동일하나 좀 더 명시적\n",
    "\n",
    "3. for value in dict.values()\n",
    "    - value 출력\n",
    "\n",
    "4. for key, value in dict.items()\n",
    "    - key와 value 모두 출력\n",
    "```"
   ]
  },
  {
   "cell_type": "markdown",
   "id": "719debc3-ac04-48d8-94ec-e11e7a7b08f1",
   "metadata": {},
   "source": [
    "### break\n",
    "break를 사용하여 반복문을 종료\n",
    "\n",
    "---\n",
    "### continue\n",
    "continue 이후의 코드를 실행하지 않고 다음 반복을 진행\n",
    "\n",
    "---\n",
    "### else (for - else)\n",
    "반복문이 끝까지 진행되어야 실행 가능\n",
    "\n",
    "---\n",
    "### pass\n",
    "구조적으로 문장이 필요할 때 잠시 사용하는 아무 의미 없는 문장\n",
    "\n",
    "## match\n",
    "\n",
    "값이 일치하는 경우 해당 case문을 실행\n",
    "\n",
    "```python\n",
    "match value\n",
    "    case <조건>:\n",
    "        code\n",
    "    case <조건>:\n",
    "        code\n",
    "    case _:\n",
    "        code\n",
    "```"
   ]
  },
  {
   "cell_type": "code",
   "execution_count": null,
   "id": "90f0268b-bd89-4015-9b9e-21767d5a7251",
   "metadata": {},
   "outputs": [],
   "source": []
  }
 ],
 "metadata": {
  "kernelspec": {
   "display_name": "Python 3 (ipykernel)",
   "language": "python",
   "name": "python3"
  },
  "language_info": {
   "codemirror_mode": {
    "name": "ipython",
    "version": 3
   },
   "file_extension": ".py",
   "mimetype": "text/x-python",
   "name": "python",
   "nbconvert_exporter": "python",
   "pygments_lexer": "ipython3",
   "version": "3.11.4"
  }
 },
 "nbformat": 4,
 "nbformat_minor": 5
}
