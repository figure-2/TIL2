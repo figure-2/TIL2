{
 "cells": [
  {
   "cell_type": "markdown",
   "id": "0ade06a7-287b-4aca-bf90-a0861ce2387f",
   "metadata": {},
   "source": [
    "# Function\n",
    "\n",
    "## 함수 선언 & 호출\n",
    "\n",
    "### 함수 선언\n",
    "```python \n",
    "def function_name(parameter1, parameter2, ...):\n",
    "    code1\n",
    "    code2\n",
    "    ...\n",
    "    return value\n",
    "```\n",
    "\n",
    "### 함수 호출\r\n",
    "```python\r\n",
    "function_name(parameter1, parameter2, ...)\r\n",
    "```\r\n"
   ]
  },
  {
   "cell_type": "markdown",
   "id": "2cd9c0d5-c1f4-4287-ad7b-a664159865b1",
   "metadata": {},
   "source": [
    "### Return\n",
    "\n",
    "함수가 return을 만나면 해당 값을 반환하고 함수 종료\n",
    "- 만약 return이 없다면 None 자동 반환\n",
    "- 하나의 객체만 반환(여러 개 반환 원하면 tuple 형태로 만들기)"
   ]
  },
  {
   "cell_type": "markdown",
   "id": "76ff9358-0d0e-46c9-a657-6a21b74a78f5",
   "metadata": {},
   "source": [
    "## 함수의 인자"
   ]
  },
  {
   "cell_type": "markdown",
   "id": "0fbe1e52-68ea-4404-9450-29422b310f1e",
   "metadata": {},
   "source": [
    "### 위치 인수\n",
    "기본적으로 인수의 위치로 판단"
   ]
  },
  {
   "cell_type": "markdown",
   "id": "a1f9f7b5-ffea-4859-8795-56368a37717d",
   "metadata": {},
   "source": [
    "### 기본값\n",
    "아무것도 입력되지 않았을 때 기본값이 출력됨\n",
    "- 위치 인수가 기본값을 준 인수보다 앞에 있어야 함\n",
    "```python\n",
    "def function(parameter1 = value1):\n",
    "    return value1\n",
    "```"
   ]
  },
  {
   "cell_type": "markdown",
   "id": "3671330b-a713-40f0-a311-d374bcf91e70",
   "metadata": {},
   "source": [
    "### 키워드 인자\n",
    "함수를 호출(실행)할 때 내가 원하는 위치에 직접적으로 특정 인자를 전달\n",
    "\n",
    "```python\n",
    "def function(p1, p2):\n",
    "    return result\n",
    "\n",
    "function(p2 = v2, p1 = v1)\n",
    "```"
   ]
  },
  {
   "cell_type": "markdown",
   "id": "c537d627-4d3f-4082-8e9a-34b4b18e09d2",
   "metadata": {},
   "source": [
    "### 가변 인자 리스트\n",
    "임의의 개수의 인자를 받음\n",
    "- 몇 개의 인자든 하나의 `tuple`로 생각\n",
    "```python \n",
    "def function(*parameters):\n",
    "    return\n",
    "```"
   ]
  },
  {
   "cell_type": "markdown",
   "id": "99ad9202-d98a-45c8-94d7-2ade7e9694cd",
   "metadata": {},
   "source": [
    "### 정의되지 않은 키워드 인자\r\n",
    "임의의 개수의 키워드 인자를 받음\r\n",
    "- `dictionary` 형태로 저장\r\n",
    "```python \r\n",
    "def function(**kwargs):\r\n",
    "    return\r\n",
    "```"
   ]
  },
  {
   "cell_type": "markdown",
   "id": "9284774d-0dc2-4a3e-a482-b3e9b5904a08",
   "metadata": {},
   "source": [
    "### Dictionary를 인자로 넣기(Unpacking)\r\n",
    "\r\n",
    "`**`을 사용하여 `dictionary`의 값을 함수의 인자로 사용할 수 있음\r\n",
    "\r\n",
    "```python\r\n",
    "def function(p1, p2, p3):\r\n",
    "    return \r\n",
    "\r\n",
    "dict = {\r\n",
    "    'p1': a,\r\n",
    "    'p2': b,\r\n",
    "    'p3': 3,\r\n",
    "}\r\n",
    "\r\n",
    "function(**dict)\r\n",
    "=\r\n",
    "function(a, b, c)\r\n",
    "\r\n",
    "```"
   ]
  },
  {
   "cell_type": "markdown",
   "id": "997a8363-72d5-483e-8bd8-75c1f1836649",
   "metadata": {},
   "source": [
    "### lambda 표현식\n",
    "\n",
    "함수를 한 줄에 쓸 수 있음\n",
    "\n",
    "```python \n",
    "lambda parameter: expression\n",
    "```"
   ]
  },
  {
   "cell_type": "markdown",
   "id": "11e2a2a9-112c-4c55-8010-bce613fed669",
   "metadata": {},
   "source": [
    "### type hint\n",
    "\n",
    "함수의 `type`에 대해 알려주며 `type`이 틀려도 강제하지 않음(힌트의 역할만 수행)\n",
    "\n",
    "```python\n",
    "def function(p1: int, p2: str) -> int:\n",
    "    '''\n",
    "    함수에 대한 설명 부분\n",
    "    '''\n",
    "    return\n",
    "```\n",
    "\n",
    "<br>\n",
    "\n",
    "### 이름공간(Scope)\n",
    "\n",
    "python에서 사용되는 이름(함수, 변수)들은 이름공간(namespace)에 저장됨\n",
    "\n",
    "- Local scope : 정의된 함수 내부\n",
    "- Enclosed scope : 상위 함수\n",
    "- Global scope : 함수 밖의 변수 혹은 import된 모듈\n",
    "- Built-in scope : python이 기본적으로 가지고 있는 함수 혹은 변수\n"
   ]
  },
  {
   "cell_type": "markdown",
   "id": "07593256-4f7d-4cd6-bf9f-eaf52a6d8ae6",
   "metadata": {},
   "source": [
    "## 재귀(recurisive)\n",
    "\n",
    "함수 내부에서 자기 자신을 호출하는 함수\n",
    "\n",
    "![recursive](./assets/recursive.png)\n",
    "\n",
    "- 재귀 함수를 사용한 factorial 함수\n",
    "\n",
    "```python\n",
    "def factorial(n):\n",
    "    if n <=1:\n",
    "        return 1\n",
    "    else:\n",
    "        return factorial(n-1) * n\n",
    "```\n",
    "\n",
    "- 재귀 함수를 사용한 피보나치 수열\n",
    "```python\n",
    "def fibbo(n):\n",
    "    if n == 0 or n == 1:\n",
    "        return 1\n",
    "    else:\n",
    "        return fibbo(n-1) + fib(n-2)\n",
    "```"
   ]
  },
  {
   "cell_type": "code",
   "execution_count": null,
   "id": "58159c4f-af29-4760-bdbf-066eb26f9236",
   "metadata": {},
   "outputs": [],
   "source": []
  }
 ],
 "metadata": {
  "kernelspec": {
   "display_name": "Python 3 (ipykernel)",
   "language": "python",
   "name": "python3"
  },
  "language_info": {
   "codemirror_mode": {
    "name": "ipython",
    "version": 3
   },
   "file_extension": ".py",
   "mimetype": "text/x-python",
   "name": "python",
   "nbconvert_exporter": "python",
   "pygments_lexer": "ipython3",
   "version": "3.11.4"
  }
 },
 "nbformat": 4,
 "nbformat_minor": 5
}
