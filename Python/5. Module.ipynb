{
 "cells": [
  {
   "cell_type": "markdown",
   "id": "325b96e6-1a2f-4ff8-b550-51b53cc90882",
   "metadata": {},
   "source": [
    "#  1. 모듈(Module)\n",
    "\n",
    "python 정의와 문장들을 담고 있는 파일(py 확장자)\n",
    "\n",
    "- `import module_name`\n",
    "- `module_name.function_name()`으로 모듈 내 함수 실행"
   ]
  },
  {
   "cell_type": "markdown",
   "id": "311ae055-3894-4a04-aaf7-c4e9e0c83280",
   "metadata": {},
   "source": [
    "# 2. 패키지(Package)\n",
    "module의 집합\n",
    "```python\n",
    "myPackage/\n",
    "    __init__.py\n",
    "    math/\n",
    "        __init__.py\n",
    "        fibo.py\n",
    "        formula.py\n",
    "```\n",
    "패키지 안에 `__init__.py` 파일이 있어야 패키지로 인식"
   ]
  },
  {
   "cell_type": "markdown",
   "id": "a1bb9e77-6c69-410b-a8c4-621250ccbe84",
   "metadata": {},
   "source": [
    "- 패키지 폴더 전체 추가\n",
    "```python\n",
    "import package_name\n",
    "```"
   ]
  },
  {
   "cell_type": "markdown",
   "id": "ba3339a0-26da-4d35-b8a5-8ccc373224f7",
   "metadata": {},
   "source": [
    "- 패키지에서 원하는 모듈 꺼내오기\n",
    "```python\n",
    "from package.package import module [as name]\n",
    "```\n",
    "> as 붙여서 원하는 이름으로 불러오기 가능\n"
   ]
  },
  {
   "cell_type": "markdown",
   "id": "7af8d71e-f7fe-4b59-bb26-d825709733f1",
   "metadata": {},
   "source": [
    "- 경로에 있는 모듈이 가지고 있는 모든 변수, 함수 추가\n",
    "\n",
    "```python\n",
    "from package.package.module import *\n",
    "```"
   ]
  },
  {
   "cell_type": "markdown",
   "id": "2761e3cc-b46b-4fe6-b16f-23917cbc7ec5",
   "metadata": {},
   "source": [
    "# 3. Python 내장 패키지\n",
    "\n",
    "`import package_name`으로 불러온 뒤 실행\n",
    "\n",
    "## 3.1 math\n",
    "수학 함수를 제공하는 패키지\n",
    "\n",
    "- `math.ceil()` : 올림 함수\n",
    "- `math.floor()` : 내림 함수\n",
    "- `math.sqrt()` : 제곱근 함수"
   ]
  },
  {
   "cell_type": "markdown",
   "id": "ec78779e-064f-4483-8900-4d7c9fda07dc",
   "metadata": {},
   "source": [
    "## 3.2 random\n",
    "난수 생성 패키지\n",
    "\n",
    "- `random.random()` : 0 ~ 1 사이 랜덤한 소수 출력\n",
    "- `random.randint(n,m)` : n과 m사이 랜덤한 정수 출력\n",
    "- `random.seed(n)` : 고정된 난수 생성 위한 seed 고정\n",
    "- `random.choice()` : sequence 객체에서 랜덤한 요소 선택\n",
    "- `random.sample()` : 비복원추출을 활용한 난수 생성\n"
   ]
  },
  {
   "cell_type": "markdown",
   "id": "8fcfdf92-9ab0-4feb-9df5-43045573fcf5",
   "metadata": {},
   "source": [
    "## 3.2 datetime\n",
    "\n",
    "날짜와 시간 관련 패키지\n",
    "`from datetime import`\n",
    "\n",
    "- `datetime.now()` & `datetime.today()` : 현재 지역 날짜와 시간 출력\n",
    "- `datetime.utcnow()` : 현재 UTC 기준 날짜와 시간 출력\n",
    "- `now.strftime('%Y년 %m월 %d일')` : 현재 년, 월, 일을 문자열 형식으로 출력\n",
    "- `now.year` & `now.day` : 현재 년, 일 출력\n",
    "- `now.weekday()` : 0 ~ 6의 인덱스로 현재 요일 출력\n",
    "- `timedelta()` : 특정 시간 저장(연산 가능)\n",
    "- `datetime(Y, M, D)` : 날짜 저장(연산 가능)"
   ]
  },
  {
   "cell_type": "markdown",
   "id": "c036c1f1-71bf-4c9c-adcb-46c4ae9f3813",
   "metadata": {},
   "source": [
    "#  1. 모듈(Module)\r\n",
    "\r\n",
    "python 정의와 문장들을 담고 있는 파일(py 확장자)\r\n",
    "\r\n",
    "- `import module_name`\r\n",
    "- `module_name.function_name()`으로 모듈 내 함수 실행\r\n",
    "\r\n",
    "<br>\r\n",
    "\r\n",
    "# 2. 패키지(Package)\r\n",
    "module의 집합\r\n",
    "```python\r\n",
    "myPackage/\r\n",
    "    __init__.py\r\n",
    "    math/\r\n",
    "        __init__.py\r\n",
    "        fibo.py\r\n",
    "        formula.py\r\n",
    "```\r\n",
    "패키지 안에 `__init__.py` 파일이 있어야 패키지로 인식\r\n",
    "<br>\r\n",
    "\r\n",
    "- 패키지 폴더 전체 추가\r\n",
    "```python\r\n",
    "import package_name\r\n",
    "```\r\n",
    "<br>\r\n",
    "\r\n",
    "- 패키지에서 원하는 모듈 꺼내오기\r\n",
    "```python\r\n",
    "from package.package import module [as name]\r\n",
    "```\r\n",
    "> as 붙여서 원하는 이름으로 불러오기 가능\r\n",
    "\r\n",
    "\r\n",
    "<br>\r\n",
    "\r\n",
    "- 경로에 있는 모듈이 가지고 있는 모든 변수, 함수 추가\r\n",
    "\r\n",
    "```python\r\n",
    "from package.package.module import *\r\n",
    "```\r\n",
    "\r\n",
    "<br>\r\n",
    "\r\n",
    "# 3. Python 내장 패키지\r\n",
    "\r\n",
    "`import package_name`으로 불러온 뒤 실행\r\n",
    "\r\n",
    "## 3.1 math\r\n",
    "수학 함수를 제공하는 패키지\r\n",
    "\r\n",
    "- `math.ceil()` : 올림 함수\r\n",
    "- `math.floor()` : 내림 함수\r\n",
    "- `math.sqrt()` : 제곱근 함수\r\n",
    "\r\n",
    "<br>\r\n",
    "\r\n",
    "## 3.2 random\r\n",
    "난수 생성 패키지\r\n",
    "\r\n",
    "- `random.random()` : 0 ~ 1 사이 랜덤한 소수 출력\r\n",
    "- `random.randint(n,m)` : n과 m사이 랜덤한 정수 출력\r\n",
    "- `random.seed(n)` : 고정된 난수 생성 위한 seed 고정\r\n",
    "- `random.choice()` : sequence 객체에서 랜덤한 요소 선택\r\n",
    "- `random.sample()` : 비복원추출을 활용한 난수 생성\r\n",
    "\r\n",
    "<br>\r\n",
    "\r\n",
    "## 3.2 datetime\r\n",
    "\r\n",
    "날짜와 시간 관련 패키지\r\n",
    "`from datetime import`\r\n",
    "\r\n",
    "- `datetime.now()` & `datetime.today()` : 현재 지역 날짜와 시간 출력\r\n",
    "- `datetime.utcnow()` : 현재 UTC 기준 날짜와 시간 출력\r\n",
    "- `now.strftime('%Y년 %m월 %d일')` : 현재 년, 월, 일을 문자열 형식으로 출력\r\n",
    "- `now.year` & `now.day` : 현재 년, 일 출력\r\n",
    "- `now.weekday()` : 0 ~ 6의 인덱스로 현재 요일 출력\r\n",
    "- `timedelta()` : 특정 시간 저장(연산 가능)\r\n",
    "- `datetime(Y, M, D)` : 날짜 저장(연산 가능)"
   ]
  },
  {
   "cell_type": "code",
   "execution_count": null,
   "id": "9f1ba589-39b6-4586-b894-cf4037ebfbbe",
   "metadata": {},
   "outputs": [],
   "source": []
  }
 ],
 "metadata": {
  "kernelspec": {
   "display_name": "Python 3 (ipykernel)",
   "language": "python",
   "name": "python3"
  },
  "language_info": {
   "codemirror_mode": {
    "name": "ipython",
    "version": 3
   },
   "file_extension": ".py",
   "mimetype": "text/x-python",
   "name": "python",
   "nbconvert_exporter": "python",
   "pygments_lexer": "ipython3",
   "version": "3.11.4"
  }
 },
 "nbformat": 4,
 "nbformat_minor": 5
}
